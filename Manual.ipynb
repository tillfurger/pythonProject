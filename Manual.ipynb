# Installation


## Python und Editor
Für dieses Projekt benötigen wir die neuste <a href="https://www.python.org/downloads/">Python Version</a> sowie einen
geeigneten Editor wie <a href="https://www.jetbrains.com/de-de/pycharm/download/#section=windows">PyCharm</a> oder
<a href="https://visualstudio.microsoft.com/de/">Visual Studio</a>.


## PIP
Zur Installation und Verwaltung unserer Python Packages verwenden wir PIP. Wurde Python vom obigen Link heruntergeladen,
sollte PIP bereits installiert sein. Um die Version zu überprüfen, öffne die Windows Eingabeaufforderung:
```Windows + X```, ```Ausführen```, gib ```cmd.exe``` ein und drücke ```OK```. Nun gibst du:

*Terminal*
```
py -m pip --version
```
ein und die Eingabeaufforderung wird dir deine aktuelle PIP version
ausgeben. Mit dem folgenden Befehl kannst du PIP aktualisieren:

*Terminal*
```
pip install --upgrade pip
```


## Bloomberg API

### Installiere Bloomberg Professional
<ol>
<li><a href="https://www.bloomberg.com/professional/support/software-updates/">Bloomberg Download</a></li>
<li>Wähle <code>Bloomberg Terminal — New/Upgrade Installation</code></li>
<li>Gehe durch den Installationsassistenten und installiere Bloomberg unbedingt in den folgenden Pfad <code>C:\</code>.
Der Subordner <code>blp</code> wird automatisch erstellt.</li>
<li>Wähle, verbinde Bloomberg mit dem Internet.</li>
</ol>

### Installiere Visual Studio Build Tools 2017
<ol>
<li><a href="https://visualstudio.microsoft.com/thank-you-downloading-visual-studio/?sku=BuildTools&rel=15">Visual Studio Build Tools</a></li>
<li>Führe den Installationsmanager aus und folge den Schritten, bis du zur Auswahl der <code>Workloads</code> gelangst.</li>
<li>Wähle <code>Visual C++ build tools</code> und folgende <code>Installation details</code> aus:</li>

* <code>Windows 10 SDK (10.0.17763.0)</code>
* <code>Visual C++-Tools für CMake</code>
* <code>Kernfunktionen von Testtools – Buildtools</code>
* <code>Visual C++-ATL für x86 und x64</code>
* <code>Visual C++-MFC für x86 und x64</code>
* <code>C++-/CLI-Unterstützung</code>
* <code>VC++ 2015.3, Version 14.00 (v140) – Toolset für ...</code>

<li>Installiere die ausgewählten Workloads. Dies benötigt ca. 10GB Speicher und dauert also eine Weile.</li>
<li>Starte den PC neu</li>
</ol>

### Lade BloombergWindowsSDK herunter
<ol>
<li>Logge dich im Terminal ein</li>
<li>Gebe <code>WAPI</code> in einem Terminal-Fenster ein</li>
<li>Du gelangst ins <code>API Download Center</code> unter den Express Links</li>
<li>Klicke beim Produkt <code>B-Pipe, Server, API, Desktop API and Platform SDK</code> auf Download</li>
<li>Extrahiere den <code>BloombergWindowsSDK</code> Ordner in den Pfad <code>C:\blp</code></li>
</ol>

### Überschreibe die .dll Files
<ol>
<li>Schliesse das Bloomberg Terminal</li>
<li>Gehe zu <code>C:\blp\BloombergWindowsSDK\C++API\v3.16.1.1\bin\DAPI</code></li>
<li>Kopiere <code>blpapi3_32.dll</code> und ```blpapi3_64.dll</code></li>
<li>Gehe zu <code>C:\blp\DAPI</code></li>
<li>Füge die .dll Files ein und überschreibe die Vorhandenen</li>
</ol>




# Setup

Nun öffnen wir PyCharm und starten ein neues Projekt und geben ihm einen beliebigen Namen. Ich nenne es
```pythonProject```. PyCharm kreiert uns automatisch ein neues Virtual Environment (```venv```) in welches wir nun
unsere Packages installieren können.


## Installation Django

Wir öffnen das ```Terminal``` in PyCharm und sehen durch den Zusatz ```(venv)```, dass unser Virtual
Environment aktiviert ist. Nun installieren wir Django mit dem Befehl:

*Terminal*
```
pip install Django
```

Für später installieren wir jetzt bereits den Bloomberg API:

*Terminal*
```
pip install --index-url=https://bcms.bloomberg.com/pip/simple/ blpapi
```


## Starte ein Django Projekt

Nun starten wir ein Django Projekt. Dazu geben wir im ```Terminal``` diesen Befehl ein:

*Terminal*
```
django-admin startproject _bloombergAPI
```

Dies kreiert uns alle Files und Ordner für unser Django Projekt. Ich setze jeweils vor den Projektnamen
einen Underscore, damit der Ordner alphabetisch geordnet zuoberst erscheint. Django erstellt uns im Projektordner
nämliche einen weiteren Ordner mit demselben Namen. Darin befinden sich die grundlegenden Skripts für unser Projekt.


## Kreiere eine App

In dem erstellten Django Projekt können wir nun diverse Applikationen erstellen. Zuerst begeben wir uns im
```Terminal``` aber in das Projekt ```_bloombergAPI```:

*Terminal*
```
cd _bloombergAPI
```

Nun können wir mit folgendem Befehl eine App names ```api``` erstellen:

*Terminal*
```
python manage.py startapp api
```


## Templates und Static Ordner

Nun erstellen wir im Ordner ```pythonProject/_bloombergAPI``` einen neuen Ordner namens ```_templates```
und einen Ordner names ```_static```. Die Underscores sind wieder gewählt, damit die Ordner zuoberst erscheinen,
da diese für das ganze Projekt verwendet werden.




# Erstellen unserer View

In einem ersten Schritt laden wir unsere neu erstellte App ```api``` in unser Projekt. Dafür öffnen wir das File
```_bloombergAPI/settings.py``` und fügen unsere App zu den ```INSTALLED_APPS``` hinzu:

*_bloombergAPI/settings.py*
```python
INSTALLED_APPS = [
    'django.contrib.admin',
    'django.contrib.auth',
    'django.contrib.contenttypes',
    'django.contrib.sessions',
    'django.contrib.messages',
    'django.contrib.staticfiles',
    'api.apps.ApiConfig',
]
```

Da wir uns gerade im ```settings.py``` File befinden können wir noch zwei weitere Anpassungen vornehmen, welche wir
später brauchen werden. Wir inkludieren unsere Ordner ```_templates``` und ```_static``` damit Django weiss wo sich
unsere Templates und Staticfiles befinden:

*_bloombergAPI/settings.py*
```python
import os
TEMPLATES = [
    {
        'BACKEND': 'django.template.backends.django.DjangoTemplates',
        'DIRS': [os.path.join(BASE_DIR, '_templates')],
        'APP_DIRS': True,
        'OPTIONS': {
            'context_processors': [
                'django.template.context_processors.debug',
                'django.template.context_processors.request',
                'django.contrib.auth.context_processors.auth',
                'django.contrib.messages.context_processors.messages',
            ],
        },
    },
]

STATIC_URL = '/_static/'
STATICFILES_DIRS = (os.path.join(BASE_DIR, '_static'),)
```

Im Ordner ```_templates``` erstellen wir einen neuen Ordner names ```api```. Darin werden sich all unsere HTML Files
für diese Applikation befinden. Im Ordner ```_templates/api``` erstellen wir ein neues File namens
```bloomberg_api.html```. Darin fügen wir folgenden HTML code ein:

*_templates/api/bloomberg_api.html*
```HTML
<html lang="en">
<head>
    <meta charset="UTF-8">
    <title>Bloomberg API</title>
</head>
<body>
    <h1>Hier kommt unser Bloomberg API</h1>
</body>
</html>
```

Nun öffnen wir das File ```api/views.py``` und geben diese HTML Seite wider, indem wir eine View erstellen:

*api/views.py*
```python
from django.shortcuts import render

def BloombergAPI(request):
    return render(request, 'api/bloomberg_api.html', {})
```

Nun begeben wir uns ins File ```_bloombergAPI/urls.py```. Dort fügen wir folgenden Code ein:

*_bloombergAPI/urls.py*
```Python
from django.contrib import admin
from django.urls import path, include

urlpatterns = [
    path('admin/', admin.site.urls, name='admin'),
    path('api/', include('api.urls'))
]
```

Im Ordner ```api``` erstellen wir ein neues File namens ```urls.py``` und füllen es mit folgendem Code:

*api/urls.py*
```Python
from django.urls import path
from .views import BloombergAPI

urlpatterns = [
    path('bloomberg_api.html', BloombergAPI, name='bloomberg_api'),
    ]
```

Wir haben bereits unsere erste Page erstellt. Wir können diese anschauen indem wir im ```Terminal``` unseren Server
starten:

*Terminal*
```
python manage.py runserver
```

Django verwendet standardmässig den development server http://127.0.0.1:8000/. Wir werden hier den Fehler
```Page not Found``` sehen, da wir unserer Seite den URL ```api/bloomberg_api.html``` gegeben haben. Öffnen wir den URL
http://127.0.0.1:8000/api/bloomberg_api.html sehen wir die erstellte HTML Seite.

Lasst uns noch eine Homepage erstellen. Dazu kreieren wir eine neue HTML Seite im Ordner ```api/bloomberg_api.html``` und nennen
sie ```home.html```:

*_templates/home.html*
```HTML
<html lang="en">
<head>
    <meta charset="UTF-8">
    <title>Bloomberg API</title>
</head>
<body>
    <h1>Hier kommt unsere Homepage</h1>
    <a href="{% url 'bloomberg_api' %}">Gehe zum Bloomberg API</a>
</body>
</html>
```

Nun müssen wir für diese HTML Page eine View erstellen. Da die Homepage aber dieselbe für alle Applikationen ist,
erstellen wir diese nicht wie vorhin im File ```api/views.py``` sondern direkt bei im ```_bloombergAPI/urls.py``` File:

*_bloombergAPI/urls.py*
```Python
from django.contrib import admin
from django.urls import path, include
from django.shortcuts import render


def HomePage(request):
    return render(request, 'home.html', {})


urlpatterns = [
    path('admin/', admin.site.urls, name='admin'),
    path('', HomePage, name='home'),
    path('api/', include('api.urls'))
]
```

Öffnen wir nun http://127.0.0.1:8000/ sehen wir unsere Homepage. Wir haben also eine Webpage erstellt, welche die URL
http://127.0.0.1:8000/ und http://127.0.0.1:8000/api/bloomberg_api.html kennt. Nice!



# HTML Template und CSS

Aktuell sind unsere beiden Seiten noch ziemlich hässlich. Dafür gibts CSS (Cascading Style Sheets). Da ich selbst
absolut kein CSS Profi bin und dies auch sekundär ist, veranschauliche ich einfach an einem Beispiel wie das Ganze
funktioniert. Dann verwenden wir Vorlagen. Im Ordner ```_static``` erstellen wir einen neuen Ordner ```css``` und darin
ein File names ```style.css```:

*_static/css/style.css*
```CSS
body {
  background-color: black;
}

h1 {
  color: white;
  border-top: 1px dotted;
  border-bottom: 5px solid;
  border-color: white;
}

a {
    color: blue;
}

p.specialclass {
  background: yellow;
}
```

Nun inkludieren wir dies (vorerst nur auf der Homepage). Dazu öffnen wir das File ```_templates/home.html``` und ändern
dies zu:

```HTML
{% load static %}

<head>
    <meta charset="UTF-8">
    <title>Bloomberg API</title>
    <link href="{% static 'css/style.css' %}" rel="stylesheet">
</head>
<body>
    <h1>Hier kommt unsere Homepage</h1>
    <a href="{% url 'bloomberg_api' %}">Gehe zum Bloomberg API</a>
    <p class="specialclass">Dies ist eine eigene Klasse.</p>
</body>
</html>
```

Wenn wir die <a href="http://127.0.0.1:8000/">Homepage</a> mit ```CTRL``` + ```Shift``` + ```R``` neu laden, sehen wir,
sehen wir die Änderungen.